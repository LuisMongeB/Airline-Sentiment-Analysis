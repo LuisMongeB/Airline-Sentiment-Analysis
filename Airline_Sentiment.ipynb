{
  "nbformat": 4,
  "nbformat_minor": 0,
  "metadata": {
    "colab": {
      "name": "BBS21_RNN_Sentiment.ipynb",
      "provenance": [],
      "collapsed_sections": [],
      "toc_visible": true
    },
    "kernelspec": {
      "name": "python3",
      "display_name": "Python 3"
    },
    "accelerator": "GPU"
  },
  "cells": [
    {
      "cell_type": "markdown",
      "metadata": {
        "id": "ZuL4cbV1-LFr"
      },
      "source": [
        "# Recurrent Neural Nets for Sentiment Analysis"
      ]
    },
    {
      "cell_type": "markdown",
      "metadata": {
        "id": "slPTSuh5-Mov"
      },
      "source": [
        "Recurrent neural nets (RNNs) are models specialized in sequence learning, that is, problems where the input data is enumerated collection of values (escalars, vectors or multi-dimensional arrays). This type of data is very common in practice, e.g., videos are sequences of image, texts are sequences of words, time series are sequences indexed by time, etc. \n",
        "\n",
        "In this notebook, we'll build simple RNNs for sentiment analysis posing the problem as a sequence classification problem.\n"
      ]
    },
    {
      "cell_type": "markdown",
      "metadata": {
        "id": "V62mcnl2uokZ"
      },
      "source": [
        "<table align='left'>\n",
        "<tr>\n",
        "<td><img src='https://miro.medium.com/max/2658/0*sm-7smnbyLioThPQ.png' width='650'/></td>\n",
        "</tr>\n",
        "</table>\n",
        "\n"
      ]
    },
    {
      "cell_type": "markdown",
      "metadata": {
        "id": "DZcpCe5q4ch_"
      },
      "source": [
        "# Ethics & Teamwork"
      ]
    },
    {
      "cell_type": "markdown",
      "metadata": {
        "id": "sdNrU4C34iUV"
      },
      "source": [
        "The following is an original work of discussion, analysis and conclusion as part of the Machine Learning for Classification course in the Master in Data Science & Business Analytics at Bologna Business School. "
      ]
    },
    {
      "cell_type": "markdown",
      "metadata": {
        "id": "dYDV-KX4hfqY"
      },
      "source": [
        "# Software and Tools\n",
        "\n",
        "As in previous examples, we will use the basic ecosystem for data science in python (numpy, sklearn, pandas, etc) as well as Keras, a very complete and intuitive proxy to TensorFlow (a more powerful but more technical library for deep learning).\n",
        "\n",
        "\n",
        "<table align='left'>\n",
        "<tr>\n",
        "<td><img src='https://keras.io/img/logo.png' width='450'/></td>\n",
        "<td><img src='https://www.theta.co.nz/media/3177/tensorflow.png' width='450'/></td>\n",
        "</tr>\n",
        "</table>\n",
        "\n"
      ]
    },
    {
      "cell_type": "markdown",
      "metadata": {
        "id": "P2tGmhfDG_sz"
      },
      "source": [
        "# Data"
      ]
    },
    {
      "cell_type": "markdown",
      "metadata": {
        "id": "gYHdwzXQHBk4"
      },
      "source": [
        "We will use data from a small corpus called *Twitter US Airline Sentiment* available on Kaggle. You can download the data using the code or the Google drive link below.\n",
        "\n",
        "\n"
      ]
    },
    {
      "cell_type": "code",
      "metadata": {
        "colab": {
          "base_uri": "https://localhost:8080/"
        },
        "id": "ILM-yzGgQiWt",
        "outputId": "b5c81742-948a-4bbd-f3b6-d7aaa8ba072f"
      },
      "source": [
        "!wget Tweets-Airline.csv www.inf.utfsm.cl/~jnancu/Tweets-Airline.csv"
      ],
      "execution_count": null,
      "outputs": [
        {
          "output_type": "stream",
          "text": [
            "--2021-04-01 17:14:46--  http://tweets-airline.csv/\n",
            "Resolving tweets-airline.csv (tweets-airline.csv)... failed: Name or service not known.\n",
            "wget: unable to resolve host address ‘tweets-airline.csv’\n",
            "URL transformed to HTTPS due to an HSTS policy\n",
            "--2021-04-01 17:14:46--  https://www.inf.utfsm.cl/~jnancu/Tweets-Airline.csv\n",
            "Resolving www.inf.utfsm.cl (www.inf.utfsm.cl)... 200.1.19.11, 2800:270:c::11\n",
            "Connecting to www.inf.utfsm.cl (www.inf.utfsm.cl)|200.1.19.11|:443... connected.\n",
            "HTTP request sent, awaiting response... 200 OK\n",
            "Length: 3421431 (3.3M) [application/octet-stream]\n",
            "Saving to: ‘Tweets-Airline.csv.1’\n",
            "\n",
            "Tweets-Airline.csv. 100%[===================>]   3.26M  1.92MB/s    in 1.7s    \n",
            "\n",
            "2021-04-01 17:14:50 (1.92 MB/s) - ‘Tweets-Airline.csv.1’ saved [3421431/3421431]\n",
            "\n",
            "FINISHED --2021-04-01 17:14:50--\n",
            "Total wall clock time: 3.8s\n",
            "Downloaded: 1 files, 3.3M in 1.7s (1.92 MB/s)\n"
          ],
          "name": "stdout"
        }
      ]
    },
    {
      "cell_type": "markdown",
      "metadata": {
        "id": "rI84zea8-Mxj"
      },
      "source": [
        "https://drive.google.com/file/d/1C28kpMfBK3cc81SBUU7h2fLYyEPBgIFZ/view?usp=sharing"
      ]
    },
    {
      "cell_type": "markdown",
      "metadata": {
        "id": "6L-6h9pAQd-2"
      },
      "source": [
        "There are 14.640 tweets posted by users of a well-known airline. The tweets have been manually classified as: positives, negatives o neutrals. The task is to design a model to predict the sentiment corresponding to novel tweets.\n"
      ]
    },
    {
      "cell_type": "code",
      "metadata": {
        "id": "V4z5_xN3cGCG",
        "colab": {
          "base_uri": "https://localhost:8080/",
          "height": 462
        },
        "outputId": "5a8051b8-3ace-4670-a2ec-a171d2ce54ce"
      },
      "source": [
        "path  = ''\n",
        "file  = 'Tweets-Airline.csv'\n",
        "\n",
        "import pandas as pd\n",
        "import numpy as np\n",
        "import seaborn as sns; sns.set()\n",
        "import matplotlib.pyplot as plt\n",
        "\n",
        "data= pd.read_csv(path+file, sep=',')\n",
        "print(data.shape)\n",
        "\n",
        "data.head(5)"
      ],
      "execution_count": null,
      "outputs": [
        {
          "output_type": "stream",
          "text": [
            "(14640, 15)\n"
          ],
          "name": "stdout"
        },
        {
          "output_type": "execute_result",
          "data": {
            "text/html": [
              "<div>\n",
              "<style scoped>\n",
              "    .dataframe tbody tr th:only-of-type {\n",
              "        vertical-align: middle;\n",
              "    }\n",
              "\n",
              "    .dataframe tbody tr th {\n",
              "        vertical-align: top;\n",
              "    }\n",
              "\n",
              "    .dataframe thead th {\n",
              "        text-align: right;\n",
              "    }\n",
              "</style>\n",
              "<table border=\"1\" class=\"dataframe\">\n",
              "  <thead>\n",
              "    <tr style=\"text-align: right;\">\n",
              "      <th></th>\n",
              "      <th>tweet_id</th>\n",
              "      <th>airline_sentiment</th>\n",
              "      <th>airline_sentiment_confidence</th>\n",
              "      <th>negativereason</th>\n",
              "      <th>negativereason_confidence</th>\n",
              "      <th>airline</th>\n",
              "      <th>airline_sentiment_gold</th>\n",
              "      <th>name</th>\n",
              "      <th>negativereason_gold</th>\n",
              "      <th>retweet_count</th>\n",
              "      <th>text</th>\n",
              "      <th>tweet_coord</th>\n",
              "      <th>tweet_created</th>\n",
              "      <th>tweet_location</th>\n",
              "      <th>user_timezone</th>\n",
              "    </tr>\n",
              "  </thead>\n",
              "  <tbody>\n",
              "    <tr>\n",
              "      <th>0</th>\n",
              "      <td>570306133677760513</td>\n",
              "      <td>neutral</td>\n",
              "      <td>1.0000</td>\n",
              "      <td>NaN</td>\n",
              "      <td>NaN</td>\n",
              "      <td>Virgin America</td>\n",
              "      <td>NaN</td>\n",
              "      <td>cairdin</td>\n",
              "      <td>NaN</td>\n",
              "      <td>0</td>\n",
              "      <td>@VirginAmerica What @dhepburn said.</td>\n",
              "      <td>NaN</td>\n",
              "      <td>2015-02-24 11:35:52 -0800</td>\n",
              "      <td>NaN</td>\n",
              "      <td>Eastern Time (US &amp; Canada)</td>\n",
              "    </tr>\n",
              "    <tr>\n",
              "      <th>1</th>\n",
              "      <td>570301130888122368</td>\n",
              "      <td>positive</td>\n",
              "      <td>0.3486</td>\n",
              "      <td>NaN</td>\n",
              "      <td>0.0000</td>\n",
              "      <td>Virgin America</td>\n",
              "      <td>NaN</td>\n",
              "      <td>jnardino</td>\n",
              "      <td>NaN</td>\n",
              "      <td>0</td>\n",
              "      <td>@VirginAmerica plus you've added commercials t...</td>\n",
              "      <td>NaN</td>\n",
              "      <td>2015-02-24 11:15:59 -0800</td>\n",
              "      <td>NaN</td>\n",
              "      <td>Pacific Time (US &amp; Canada)</td>\n",
              "    </tr>\n",
              "    <tr>\n",
              "      <th>2</th>\n",
              "      <td>570301083672813571</td>\n",
              "      <td>neutral</td>\n",
              "      <td>0.6837</td>\n",
              "      <td>NaN</td>\n",
              "      <td>NaN</td>\n",
              "      <td>Virgin America</td>\n",
              "      <td>NaN</td>\n",
              "      <td>yvonnalynn</td>\n",
              "      <td>NaN</td>\n",
              "      <td>0</td>\n",
              "      <td>@VirginAmerica I didn't today... Must mean I n...</td>\n",
              "      <td>NaN</td>\n",
              "      <td>2015-02-24 11:15:48 -0800</td>\n",
              "      <td>Lets Play</td>\n",
              "      <td>Central Time (US &amp; Canada)</td>\n",
              "    </tr>\n",
              "    <tr>\n",
              "      <th>3</th>\n",
              "      <td>570301031407624196</td>\n",
              "      <td>negative</td>\n",
              "      <td>1.0000</td>\n",
              "      <td>Bad Flight</td>\n",
              "      <td>0.7033</td>\n",
              "      <td>Virgin America</td>\n",
              "      <td>NaN</td>\n",
              "      <td>jnardino</td>\n",
              "      <td>NaN</td>\n",
              "      <td>0</td>\n",
              "      <td>@VirginAmerica it's really aggressive to blast...</td>\n",
              "      <td>NaN</td>\n",
              "      <td>2015-02-24 11:15:36 -0800</td>\n",
              "      <td>NaN</td>\n",
              "      <td>Pacific Time (US &amp; Canada)</td>\n",
              "    </tr>\n",
              "    <tr>\n",
              "      <th>4</th>\n",
              "      <td>570300817074462722</td>\n",
              "      <td>negative</td>\n",
              "      <td>1.0000</td>\n",
              "      <td>Can't Tell</td>\n",
              "      <td>1.0000</td>\n",
              "      <td>Virgin America</td>\n",
              "      <td>NaN</td>\n",
              "      <td>jnardino</td>\n",
              "      <td>NaN</td>\n",
              "      <td>0</td>\n",
              "      <td>@VirginAmerica and it's a really big bad thing...</td>\n",
              "      <td>NaN</td>\n",
              "      <td>2015-02-24 11:14:45 -0800</td>\n",
              "      <td>NaN</td>\n",
              "      <td>Pacific Time (US &amp; Canada)</td>\n",
              "    </tr>\n",
              "  </tbody>\n",
              "</table>\n",
              "</div>"
            ],
            "text/plain": [
              "             tweet_id  ...               user_timezone\n",
              "0  570306133677760513  ...  Eastern Time (US & Canada)\n",
              "1  570301130888122368  ...  Pacific Time (US & Canada)\n",
              "2  570301083672813571  ...  Central Time (US & Canada)\n",
              "3  570301031407624196  ...  Pacific Time (US & Canada)\n",
              "4  570300817074462722  ...  Pacific Time (US & Canada)\n",
              "\n",
              "[5 rows x 15 columns]"
            ]
          },
          "metadata": {
            "tags": []
          },
          "execution_count": 37
        }
      ]
    },
    {
      "cell_type": "code",
      "metadata": {
        "id": "gkH9LuenebPX",
        "colab": {
          "base_uri": "https://localhost:8080/",
          "height": 443
        },
        "outputId": "09d904b7-9188-4c50-933a-b04216bc4a4b"
      },
      "source": [
        "import seaborn as sns; sns.set()\n",
        "import matplotlib.pyplot as plt\n",
        "\n",
        "print(\"\\n\")\n",
        "fig, ax = plt.subplots(figsize=(10,5),nrows=1)\n",
        "sns.countplot(data['airline_sentiment'],palette=\"Blues_d\")\n",
        "ax.set_title('Sentiment Distribution')\n",
        "plt.show()\n"
      ],
      "execution_count": null,
      "outputs": [
        {
          "output_type": "stream",
          "text": [
            "\n",
            "\n"
          ],
          "name": "stdout"
        },
        {
          "output_type": "stream",
          "text": [
            "/usr/local/lib/python3.7/dist-packages/seaborn/_decorators.py:43: FutureWarning: Pass the following variable as a keyword arg: x. From version 0.12, the only valid positional argument will be `data`, and passing other arguments without an explicit keyword will result in an error or misinterpretation.\n",
            "  FutureWarning\n"
          ],
          "name": "stderr"
        },
        {
          "output_type": "display_data",
          "data": {
            "image/png": "[encoded data removed]",
            "text/plain": [
              "<Figure size 720x360 with 1 Axes>"
            ]
          },
          "metadata": {
            "tags": []
          }
        }
      ]
    },
    {
      "cell_type": "code",
      "metadata": {
        "id": "q7b5IXXXeqx1",
        "colab": {
          "base_uri": "https://localhost:8080/",
          "height": 426
        },
        "outputId": "62ec5ca9-5a91-4b1d-a8b1-1522a1013cd5"
      },
      "source": [
        "lenghts_pos = []\n",
        "lenghts_neg = []\n",
        "lenghts_neutral = []\n",
        "\n",
        "for sentence,label in zip(data['text'],data['airline_sentiment']):\n",
        "  if label == 'negative':\n",
        "    lenghts_neg.append(len(sentence.lower().split()))\n",
        "  if label == 'positive':\n",
        "    lenghts_pos.append(len(sentence.lower().split()))\n",
        "  if label == 'neutral':\n",
        "    lenghts_neutral.append(len(sentence.lower().split()))\n",
        "\n",
        "print(\"\\n\")\n",
        "fig, ax = plt.subplots(figsize=(10,5),nrows=1)\n",
        "sns.distplot(lenghts_pos,hist=True, kde=False, norm_hist=False, label='positivo',ax=ax)\n",
        "sns.distplot(lenghts_neg,hist=True, kde=False, norm_hist=False, label='negativo',ax=ax)\n",
        "sns.distplot(lenghts_neutral,hist=True, kde=False, norm_hist=False, label='neutral',ax=ax)\n",
        "ax.set_title('Text Lenght by Class')\n",
        "ax.legend()\n",
        "plt.show()\n"
      ],
      "execution_count": null,
      "outputs": [
        {
          "output_type": "stream",
          "text": [
            "\n",
            "\n"
          ],
          "name": "stdout"
        },
        {
          "output_type": "stream",
          "text": [
            "/usr/local/lib/python3.7/dist-packages/seaborn/distributions.py:2557: FutureWarning: `distplot` is a deprecated function and will be removed in a future version. Please adapt your code to use either `displot` (a figure-level function with similar flexibility) or `histplot` (an axes-level function for histograms).\n",
            "  warnings.warn(msg, FutureWarning)\n"
          ],
          "name": "stderr"
        },
        {
          "output_type": "display_data",
          "data": {
            "image/png": "[encoded data removed]",
            "text/plain": [
              "<Figure size 720x360 with 1 Axes>"
            ]
          },
          "metadata": {
            "tags": []
          }
        }
      ]
    },
    {
      "cell_type": "markdown",
      "metadata": {
        "id": "YqJpe8qkmPVd"
      },
      "source": [
        "# Splits & Class Selection"
      ]
    },
    {
      "cell_type": "code",
      "metadata": {
        "id": "FInnrG1KmVMY",
        "colab": {
          "base_uri": "https://localhost:8080/",
          "height": 443
        },
        "outputId": "587acadb-835c-442d-96c5-4c947fcd915b"
      },
      "source": [
        "lab_tweets = data[['text','airline_sentiment']]\n",
        "lab_tweets = lab_tweets[lab_tweets['airline_sentiment'] != 'neutral']\n",
        "np.random.seed(30)\n",
        "msk = np.random.rand(len(lab_tweets)) < 0.8\n",
        "data = lab_tweets\n",
        "data_for_trans = lab_tweets\n",
        "\n",
        "import seaborn as sns; sns.set()\n",
        "import matplotlib.pyplot as plt\n",
        "\n",
        "print(\"\\n\")\n",
        "fig, ax = plt.subplots(figsize=(10,5),nrows=1)\n",
        "sns.countplot(data['airline_sentiment'],palette=\"Blues_d\")\n",
        "ax.set_title('Sentiment Distribution')\n",
        "plt.show()"
      ],
      "execution_count": null,
      "outputs": [
        {
          "output_type": "stream",
          "text": [
            "\n",
            "\n"
          ],
          "name": "stdout"
        },
        {
          "output_type": "stream",
          "text": [
            "/usr/local/lib/python3.7/dist-packages/seaborn/_decorators.py:43: FutureWarning: Pass the following variable as a keyword arg: x. From version 0.12, the only valid positional argument will be `data`, and passing other arguments without an explicit keyword will result in an error or misinterpretation.\n",
            "  FutureWarning\n"
          ],
          "name": "stderr"
        },
        {
          "output_type": "display_data",
          "data": {
            "image/png": "[encoded data removed]",
            "text/plain": [
              "<Figure size 720x360 with 1 Axes>"
            ]
          },
          "metadata": {
            "tags": []
          }
        }
      ]
    },
    {
      "cell_type": "markdown",
      "metadata": {
        "id": "NU9kdgfRdOlx"
      },
      "source": [
        "# From Tweets to Vectors"
      ]
    },
    {
      "cell_type": "markdown",
      "metadata": {
        "id": "Wc-2HjKnhu09"
      },
      "source": [
        "## Stopwords Filtering & More"
      ]
    },
    {
      "cell_type": "code",
      "metadata": {
        "id": "d2pnTMuRg5OI",
        "colab": {
          "base_uri": "https://localhost:8080/"
        },
        "outputId": "4197f949-182a-44d1-da89-504d12936042"
      },
      "source": [
        "import nltk\n",
        "nltk.download('wordnet')\n",
        "nltk.download('stopwords')\n",
        "from nltk.corpus import stopwords\n",
        "\n",
        "sentences = []\n",
        "labels = []\n",
        "\n",
        "for sentence,label in zip(data['text'],data['airline_sentiment']):\n",
        "  labels.append(label)\n",
        "  for word in stopwords.words('english'):\n",
        "    token = ''+ word + ''\n",
        "    sentence = sentence.replace(token,'')\n",
        "    sentence = sentence.replace(' ', ' ')\n",
        "  sentences.append(sentence)\n",
        "\n",
        "print(len(sentences))\n",
        "print(sentences[0])"
      ],
      "execution_count": null,
      "outputs": [
        {
          "output_type": "stream",
          "text": [
            "[nltk_data] Downloading package wordnet to /root/nltk_data...\n",
            "[nltk_data]   Package wordnet is already up-to-date!\n",
            "[nltk_data] Downloading package stopwords to /root/nltk_data...\n",
            "[nltk_data]   Package stopwords is already up-to-date!\n",
            "11541\n",
            "@VrgnArc plu ' e crcl   expence... ck.\n"
          ],
          "name": "stdout"
        }
      ]
    },
    {
      "cell_type": "markdown",
      "metadata": {
        "id": "CMMQltgwh2jD"
      },
      "source": [
        "## Vectorization"
      ]
    },
    {
      "cell_type": "code",
      "metadata": {
        "id": "qZpLc5ENh7Kw",
        "colab": {
          "base_uri": "https://localhost:8080/"
        },
        "outputId": "d01bd8a5-f150-4451-8818-e6de9eb79db4"
      },
      "source": [
        "from tensorflow.keras.preprocessing.text import Tokenizer\n",
        "\n",
        "TF_tokenizer = Tokenizer(num_words=5000)\n",
        "TF_tokenizer.fit_on_texts(sentences)\n",
        "tweet_vectors = TF_tokenizer.texts_to_matrix(sentences, mode='freq')#binary', 'count', 'tfidf'\n",
        "print(tweet_vectors.shape)\n"
      ],
      "execution_count": null,
      "outputs": [
        {
          "output_type": "stream",
          "text": [
            "(11541, 5000)\n"
          ],
          "name": "stdout"
        }
      ]
    },
    {
      "cell_type": "markdown",
      "metadata": {
        "id": "Y6nGRxOyc9NS"
      },
      "source": [
        "# From Tweets to Sequences"
      ]
    },
    {
      "cell_type": "code",
      "metadata": {
        "id": "l2I59r3g-4H5",
        "colab": {
          "base_uri": "https://localhost:8080/"
        },
        "outputId": "505624df-b7c0-4100-e598-a1ba139d065e"
      },
      "source": [
        "from tensorflow.keras.preprocessing.text import Tokenizer\n",
        "from tensorflow.keras.preprocessing.sequence import pad_sequences\n",
        "\n",
        "tweets = data['text'].values\n",
        "\n",
        "Seq_tokenizer = Tokenizer(num_words=5000)\n",
        "Seq_tokenizer.fit_on_texts(tweets)\n",
        "\n",
        "vocab_size = len(Seq_tokenizer.word_index) + 1\n",
        "sequences = Seq_tokenizer.texts_to_sequences(tweets)\n",
        "padded_sequences = pad_sequences(sequences, maxlen=200)\n",
        "\n",
        "print(tweets[0])\n",
        "print(sequences[0])\n",
        "print(padded_sequences[0])\n"
      ],
      "execution_count": null,
      "outputs": [
        {
          "output_type": "stream",
          "text": [
            "@VirginAmerica plus you've added commercials to the experience... tacky.\n",
            "[103, 575, 530, 1287, 2416, 1, 2, 177]\n",
            "[   0    0    0    0    0    0    0    0    0    0    0    0    0    0\n",
            "    0    0    0    0    0    0    0    0    0    0    0    0    0    0\n",
            "    0    0    0    0    0    0    0    0    0    0    0    0    0    0\n",
            "    0    0    0    0    0    0    0    0    0    0    0    0    0    0\n",
            "    0    0    0    0    0    0    0    0    0    0    0    0    0    0\n",
            "    0    0    0    0    0    0    0    0    0    0    0    0    0    0\n",
            "    0    0    0    0    0    0    0    0    0    0    0    0    0    0\n",
            "    0    0    0    0    0    0    0    0    0    0    0    0    0    0\n",
            "    0    0    0    0    0    0    0    0    0    0    0    0    0    0\n",
            "    0    0    0    0    0    0    0    0    0    0    0    0    0    0\n",
            "    0    0    0    0    0    0    0    0    0    0    0    0    0    0\n",
            "    0    0    0    0    0    0    0    0    0    0    0    0    0    0\n",
            "    0    0    0    0    0    0    0    0    0    0    0    0    0    0\n",
            "    0    0    0    0    0    0    0    0    0    0  103  575  530 1287\n",
            " 2416    1    2  177]\n"
          ],
          "name": "stdout"
        }
      ]
    },
    {
      "cell_type": "markdown",
      "metadata": {
        "id": "aVzIAthultJB"
      },
      "source": [
        "# Feed-Forward Net on Term-frequency (TF) Vectors"
      ]
    },
    {
      "cell_type": "markdown",
      "metadata": {
        "id": "wc2QFWpWovty"
      },
      "source": [
        "## Model"
      ]
    },
    {
      "cell_type": "code",
      "metadata": {
        "id": "307sO-z1nt3n"
      },
      "source": [
        "\n",
        "from keras.models import Sequential\n",
        "from keras.layers import Dense, Activation\n",
        "from keras.optimizers import SGD, Adam\n",
        "from keras.layers import Dropout\n",
        "\n",
        "\n",
        "def classic_model(num_words=5000):\n",
        "\n",
        "  model = Sequential()\n",
        "  model.add(Dense(50, input_shape=(num_words,), activation=\"relu\"))\n",
        "  model.add(Dense(20,activation=\"relu\"))\n",
        "  model.add(Dense(1,activation=\"sigmoid\"))\n",
        "\n",
        "  opt = SGD(0.1)\n",
        "  model.compile(loss='binary_crossentropy', metrics=['accuracy'], optimizer=opt)\n",
        "\n",
        "  return model\n"
      ],
      "execution_count": null,
      "outputs": []
    },
    {
      "cell_type": "code",
      "metadata": {
        "id": "OgU8ErAtm74Z",
        "colab": {
          "base_uri": "https://localhost:8080/"
        },
        "outputId": "6de40600-8c97-476c-ee5e-0a16bb792539"
      },
      "source": [
        "model_FF = classic_model(num_words=5000)\n",
        "model_FF.summary()\n"
      ],
      "execution_count": null,
      "outputs": [
        {
          "output_type": "stream",
          "text": [
            "Model: \"sequential_1\"\n",
            "_________________________________________________________________\n",
            "Layer (type)                 Output Shape              Param #   \n",
            "=================================================================\n",
            "dense_3 (Dense)              (None, 50)                250050    \n",
            "_________________________________________________________________\n",
            "dense_4 (Dense)              (None, 20)                1020      \n",
            "_________________________________________________________________\n",
            "dense_5 (Dense)              (None, 1)                 21        \n",
            "=================================================================\n",
            "Total params: 251,091\n",
            "Trainable params: 251,091\n",
            "Non-trainable params: 0\n",
            "_________________________________________________________________\n"
          ],
          "name": "stdout"
        }
      ]
    },
    {
      "cell_type": "markdown",
      "metadata": {
        "id": "xtaj5N0spPnc"
      },
      "source": [
        "## Training"
      ]
    },
    {
      "cell_type": "code",
      "metadata": {
        "colab": {
          "base_uri": "https://localhost:8080/"
        },
        "id": "ECQ2YeoFb0Aq",
        "outputId": "1c25d960-493e-49cb-9e3b-892cda06c9e0"
      },
      "source": [
        "tweet_train = tweet_vectors[msk]\n",
        "tweet_test = tweet_vectors[~msk]\n",
        "\n",
        "sentiments = data['airline_sentiment'].factorize()\n",
        "sentiments_labels = sentiments[0]\n",
        "sentiments_tags = sentiments[1]\n",
        "print(sentiments_labels)\n",
        "\n",
        "res_l, res_c = np.unique(sentiments_labels, return_counts=True)\n",
        "print(res_l,res_c)\n",
        "sentiment_train = sentiments_labels[msk]\n",
        "sentiment_test = sentiments_labels[~msk] "
      ],
      "execution_count": null,
      "outputs": [
        {
          "output_type": "stream",
          "text": [
            "[0 1 1 ... 0 1 1]\n",
            "[0 1] [2363 9178]\n"
          ],
          "name": "stdout"
        }
      ]
    },
    {
      "cell_type": "code",
      "metadata": {
        "id": "u-wcEHTol5JR",
        "colab": {
          "base_uri": "https://localhost:8080/"
        },
        "outputId": "ec8be7fc-1319-4a0b-a6b4-94f3802a10cd"
      },
      "source": [
        "model_FF = classic_model(num_words=5000)\n",
        "history_FF = model_FF.fit(tweet_train, sentiment_train, batch_size=64, epochs=20, verbose=2, validation_data=(tweet_test, sentiment_test))\n"
      ],
      "execution_count": null,
      "outputs": [
        {
          "output_type": "stream",
          "text": [
            "[0 1 1 ... 0 1 1]\n",
            "[0 1] [2363 9178]\n",
            "Epoch 1/20\n",
            "144/144 - 3s - loss: 0.5147 - accuracy: 0.7965 - val_loss: 0.5133 - val_accuracy: 0.7872\n",
            "Epoch 2/20\n",
            "144/144 - 1s - loss: 0.4983 - accuracy: 0.7973 - val_loss: 0.5085 - val_accuracy: 0.7872\n",
            "Epoch 3/20\n",
            "144/144 - 0s - loss: 0.4919 - accuracy: 0.7973 - val_loss: 0.4988 - val_accuracy: 0.7872\n",
            "Epoch 4/20\n",
            "144/144 - 1s - loss: 0.4813 - accuracy: 0.7973 - val_loss: 0.4846 - val_accuracy: 0.7872\n",
            "Epoch 5/20\n",
            "144/144 - 0s - loss: 0.4650 - accuracy: 0.7973 - val_loss: 0.4634 - val_accuracy: 0.7872\n",
            "Epoch 6/20\n",
            "144/144 - 1s - loss: 0.4425 - accuracy: 0.8100 - val_loss: 0.4350 - val_accuracy: 0.8153\n",
            "Epoch 7/20\n",
            "144/144 - 1s - loss: 0.4152 - accuracy: 0.8248 - val_loss: 0.4221 - val_accuracy: 0.8443\n",
            "Epoch 8/20\n",
            "144/144 - 0s - loss: 0.3877 - accuracy: 0.8388 - val_loss: 0.3761 - val_accuracy: 0.8464\n",
            "Epoch 9/20\n",
            "144/144 - 1s - loss: 0.3715 - accuracy: 0.8472 - val_loss: 0.3547 - val_accuracy: 0.8489\n",
            "Epoch 10/20\n",
            "144/144 - 0s - loss: 0.3699 - accuracy: 0.8494 - val_loss: 0.3416 - val_accuracy: 0.8566\n",
            "Epoch 11/20\n",
            "144/144 - 0s - loss: 0.3540 - accuracy: 0.8581 - val_loss: 0.3337 - val_accuracy: 0.8711\n",
            "Epoch 12/20\n",
            "144/144 - 1s - loss: 0.3461 - accuracy: 0.8614 - val_loss: 0.4821 - val_accuracy: 0.8285\n",
            "Epoch 13/20\n",
            "144/144 - 0s - loss: 0.3477 - accuracy: 0.8589 - val_loss: 0.4545 - val_accuracy: 0.8251\n",
            "Epoch 14/20\n",
            "144/144 - 0s - loss: 0.3452 - accuracy: 0.8603 - val_loss: 0.3212 - val_accuracy: 0.8626\n",
            "Epoch 15/20\n",
            "144/144 - 0s - loss: 0.3326 - accuracy: 0.8677 - val_loss: 0.4270 - val_accuracy: 0.8374\n",
            "Epoch 16/20\n",
            "144/144 - 0s - loss: 0.3316 - accuracy: 0.8681 - val_loss: 0.5128 - val_accuracy: 0.7740\n",
            "Epoch 17/20\n",
            "144/144 - 1s - loss: 0.3374 - accuracy: 0.8644 - val_loss: 0.3218 - val_accuracy: 0.8643\n",
            "Epoch 18/20\n",
            "144/144 - 0s - loss: 0.3303 - accuracy: 0.8635 - val_loss: 0.3000 - val_accuracy: 0.8813\n",
            "Epoch 19/20\n",
            "144/144 - 0s - loss: 0.3224 - accuracy: 0.8700 - val_loss: 0.2950 - val_accuracy: 0.8830\n",
            "Epoch 20/20\n",
            "144/144 - 0s - loss: 0.3208 - accuracy: 0.8714 - val_loss: 0.2938 - val_accuracy: 0.8830\n"
          ],
          "name": "stdout"
        }
      ]
    },
    {
      "cell_type": "markdown",
      "metadata": {
        "id": "cg-PXIR3uQ7I"
      },
      "source": [
        "## Evaluation\n"
      ]
    },
    {
      "cell_type": "code",
      "metadata": {
        "id": "qlOtLUA8b5m_"
      },
      "source": [
        "import matplotlib.pyplot as plt\n",
        "from sklearn.metrics import classification_report, confusion_matrix\n",
        "from sklearn.metrics import ConfusionMatrixDisplay\n"
      ],
      "execution_count": null,
      "outputs": []
    },
    {
      "cell_type": "code",
      "metadata": {
        "id": "5mEBUZuhuV3o",
        "colab": {
          "base_uri": "https://localhost:8080/",
          "height": 912
        },
        "outputId": "1699166d-2dc7-44fb-8fdd-d021cea9e85b"
      },
      "source": [
        "\n",
        "\n",
        "fig, axis = plt.subplots(1, 2, figsize=(14,5))\n",
        "axis[0].plot(history_FF.history['val_loss'], label='val_loss')\n",
        "axis[0].plot(history_FF.history['loss'], label='loss')\n",
        "axis[0].legend()\n",
        "axis[1].plot(history_FF.history['val_accuracy'], label='val_acc')\n",
        "axis[1].plot(history_FF.history['accuracy'], label='acc')\n",
        "axis[1].legend()\n",
        "plt.show()\n",
        "\n",
        "y_pred = model_FF.predict(tweet_test).round().astype(int)[:,0]\n",
        "\n",
        "acc_test = np.mean(sentiment_test == y_pred)\n",
        "\n",
        "print(\"\\nFINAL TEST ACCURACY: \" , acc_test )\n",
        "\n",
        "target_names = [str(i) for i in range(10)]\n",
        "\n",
        "print(\"\\nConfusion Matrix\\n\")\n",
        "fig, ax = plt.subplots(figsize=(5, 5))\n",
        "cm = confusion_matrix(sentiment_test, y_pred)\n",
        "disp = ConfusionMatrixDisplay(confusion_matrix=cm, display_labels=sentiments_tags)\n",
        "disp = disp.plot(ax=ax,cmap=plt.cm.Blues)\n",
        "plt.show()\n",
        "\n",
        "print(\"\\nClassification Report\\n\")\n",
        "\n",
        "print(classification_report(sentiment_test, y_pred, target_names=sentiments_tags))\n"
      ],
      "execution_count": null,
      "outputs": [
        {
          "output_type": "display_data",
          "data": {
            "image/png": "[encoded data removed]",
            "text/plain": [
              "<Figure size 1008x360 with 2 Axes>"
            ]
          },
          "metadata": {
            "tags": []
          }
        },
        {
          "output_type": "stream",
          "text": [
            "\n",
            "FINAL TEST ACCURACY:  0.8829787234042553\n",
            "\n",
            "Confusion Matrix\n",
            "\n"
          ],
          "name": "stdout"
        },
        {
          "output_type": "display_data",
          "data": {
            "image/png": "[encoded data removed]",
            "text/plain": [
              "<Figure size 360x360 with 2 Axes>"
            ]
          },
          "metadata": {
            "tags": []
          }
        },
        {
          "output_type": "stream",
          "text": [
            "\n",
            "Classification Report\n",
            "\n",
            "              precision    recall  f1-score   support\n",
            "\n",
            "    positive       0.86      0.54      0.66       500\n",
            "    negative       0.89      0.98      0.93      1850\n",
            "\n",
            "    accuracy                           0.88      2350\n",
            "   macro avg       0.87      0.76      0.80      2350\n",
            "weighted avg       0.88      0.88      0.87      2350\n",
            "\n"
          ],
          "name": "stdout"
        }
      ]
    },
    {
      "cell_type": "code",
      "metadata": {
        "id": "7OAHrwIyvnxv",
        "colab": {
          "base_uri": "https://localhost:8080/"
        },
        "outputId": "a3ccec60-a392-4e6e-d258-2fc060cf63ca"
      },
      "source": [
        "test_tweet =\"I always like flying with you\"\n",
        "tweet_vector = TF_tokenizer.texts_to_matrix([test_tweet], mode='freq')\n",
        "prediction = int(model_FF.predict(tweet_vector).round())\n",
        "print(\"TEST TWEET: \",test_tweet)\n",
        "print(\"PREDICTION: \",sentiments_tags[prediction])"
      ],
      "execution_count": null,
      "outputs": [
        {
          "output_type": "stream",
          "text": [
            "TEST TWEET:  I always like flying with you\n",
            "PREDICTION:  negative\n"
          ],
          "name": "stdout"
        }
      ]
    },
    {
      "cell_type": "markdown",
      "metadata": {
        "id": "qXlvxVcREeXv"
      },
      "source": [
        "Here we can observe how, being memory-less, the FF dense architecture is not able to connect words in the initial positions with words later on in the sentence. This contributes to many instances where negative is predicted but positive is the true class like the test above. \n",
        "\n",
        "Will therefore introduce LSTMs in order to improve prediction ability by the model."
      ]
    },
    {
      "cell_type": "markdown",
      "metadata": {
        "id": "5crpqfzldETi"
      },
      "source": [
        "# LSTM with Trainable Embedding "
      ]
    },
    {
      "cell_type": "markdown",
      "metadata": {
        "id": "zj3KrSoNdVCs"
      },
      "source": [
        "## Model"
      ]
    },
    {
      "cell_type": "code",
      "metadata": {
        "id": "5F1exRCe_wN9"
      },
      "source": [
        "from tensorflow.keras.models import Sequential\n",
        "from tensorflow.keras.layers import LSTM, Dense, Dropout\n",
        "from tensorflow.keras.layers import SpatialDropout1D, SimpleRNN\n",
        "from tensorflow.keras.layers import Embedding\n",
        "\n",
        "\n",
        "def recurrent_simple():\n",
        "  embedding_vector_length = 32\n",
        "  model = Sequential()\n",
        "  model.add(Embedding(vocab_size, embedding_vector_length, input_length=200))\n",
        "  model.add(SpatialDropout1D(0.25))\n",
        "  model.add(LSTM(50, dropout=0.5, recurrent_dropout=0.5))\n",
        "  model.add(Dropout(0.2))\n",
        "  model.add(Dense(1, activation='sigmoid'))\n",
        "  model.compile(loss='binary_crossentropy',optimizer='adam', metrics=['accuracy'])\n",
        "  print(model.summary())\n",
        "  return model\n",
        "\n",
        "def recurrent_double():\n",
        "  embedding_vector_length = 32\n",
        "  model = Sequential()\n",
        "  model.add(Embedding(vocab_size, embedding_vector_length, input_length=200))\n",
        "  model.add(SpatialDropout1D(0.25))\n",
        "  model.add(LSTM(50, dropout=0.5, recurrent_dropout=0.5, return_sequences=True))\n",
        "  model.add(LSTM(50, dropout=0.5, recurrent_dropout=0.5))\n",
        "  model.add(Dropout(0.2))\n",
        "  model.add(Dense(1, activation='sigmoid'))\n",
        "  model.compile(loss='binary_crossentropy',optimizer='adam', metrics=['accuracy'])\n",
        "  print(model.summary())\n",
        "  return model\n",
        "\n",
        "def recurrent_bidirectional():\n",
        "  embedding_vector_length = 32\n",
        "  model = Sequential()\n",
        "  model.add(Embedding(vocab_size, embedding_vector_length, input_length=200))\n",
        "  model.add(SpatialDropout1D(0.25))\n",
        "  model.add(Bidirectional(LSTM(50, dropout=0.5, recurrent_dropout=0.5)))\n",
        "  model.add(Dropout(0.2))\n",
        "  model.add(Dense(1, activation='sigmoid'))\n",
        "  model.compile(loss='binary_crossentropy',optimizer='adam', metrics=['accuracy'])\n",
        "  print(model.summary())\n",
        "  return model\n"
      ],
      "execution_count": null,
      "outputs": []
    },
    {
      "cell_type": "markdown",
      "metadata": {
        "id": "Wk8HZ8H3dYSl"
      },
      "source": [
        "## Training"
      ]
    },
    {
      "cell_type": "code",
      "metadata": {
        "id": "SBQ_IlcY_065",
        "colab": {
          "base_uri": "https://localhost:8080/"
        },
        "outputId": "20033f3e-2685-41cf-b8cf-456883fe85f0"
      },
      "source": [
        "seqs_train = padded_sequences[msk]\n",
        "seqs_test = padded_sequences[~msk]\n",
        "\n",
        "sentiments = data['airline_sentiment'].factorize()\n",
        "sentiments_labels = sentiments[0]\n",
        "sentiments_tags = sentiments[1]\n",
        "print(sentiments_labels)\n",
        "\n",
        "res_l, res_c = np.unique(sentiments_labels, return_counts=True)\n",
        "print(res_l,res_c)\n",
        "sentiment_train = sentiments_labels[msk]\n",
        "sentiment_test = sentiments_labels[~msk] \n",
        "\n",
        "weights = {0 : 1., 1: 10.}\n",
        "\n",
        "model_LSTM = recurrent_simple()\n",
        "history_LSTM = model_LSTM.fit(seqs_train, sentiment_train, epochs=10, batch_size=32, validation_data=(seqs_test, sentiment_test), class_weight = weights)"
      ],
      "execution_count": null,
      "outputs": [
        {
          "output_type": "stream",
          "text": [
            "[0 1 1 ... 0 1 1]\n",
            "[0 1] [2363 9178]\n",
            "WARNING:tensorflow:Layer lstm will not use cuDNN kernel since it doesn't meet the cuDNN kernel criteria. It will use generic GPU kernel as fallback when running on GPU\n",
            "Model: \"sequential_7\"\n",
            "_________________________________________________________________\n",
            "Layer (type)                 Output Shape              Param #   \n",
            "=================================================================\n",
            "embedding_7 (Embedding)      (None, 200, 32)           423488    \n",
            "_________________________________________________________________\n",
            "spatial_dropout1d_7 (Spatial (None, 200, 32)           0         \n",
            "_________________________________________________________________\n",
            "lstm (LSTM)                  (None, 50)                16600     \n",
            "_________________________________________________________________\n",
            "dropout_6 (Dropout)          (None, 50)                0         \n",
            "_________________________________________________________________\n",
            "dense_6 (Dense)              (None, 1)                 51        \n",
            "=================================================================\n",
            "Total params: 440,139\n",
            "Trainable params: 440,139\n",
            "Non-trainable params: 0\n",
            "_________________________________________________________________\n",
            "None\n",
            "Epoch 1/10\n",
            "288/288 [==============================] - 284s 975ms/step - loss: 1.8838 - accuracy: 0.7855 - val_loss: 0.8257 - val_accuracy: 0.7872\n",
            "Epoch 2/10\n",
            "288/288 [==============================] - 281s 977ms/step - loss: 0.8583 - accuracy: 0.8002 - val_loss: 0.3932 - val_accuracy: 0.8434\n",
            "Epoch 3/10\n",
            "288/288 [==============================] - 281s 976ms/step - loss: 0.4504 - accuracy: 0.8737 - val_loss: 0.3959 - val_accuracy: 0.8834\n",
            "Epoch 4/10\n",
            "288/288 [==============================] - 283s 983ms/step - loss: 0.3217 - accuracy: 0.9235 - val_loss: 0.3208 - val_accuracy: 0.9047\n",
            "Epoch 5/10\n",
            "288/288 [==============================] - 281s 975ms/step - loss: 0.2804 - accuracy: 0.9345 - val_loss: 0.3008 - val_accuracy: 0.9081\n",
            "Epoch 6/10\n",
            "288/288 [==============================] - 282s 980ms/step - loss: 0.2178 - accuracy: 0.9491 - val_loss: 0.3350 - val_accuracy: 0.9072\n",
            "Epoch 7/10\n",
            "288/288 [==============================] - 280s 971ms/step - loss: 0.2248 - accuracy: 0.9516 - val_loss: 0.3479 - val_accuracy: 0.9089\n",
            "Epoch 8/10\n",
            "288/288 [==============================] - 281s 976ms/step - loss: 0.1826 - accuracy: 0.9590 - val_loss: 0.3985 - val_accuracy: 0.8996\n",
            "Epoch 9/10\n",
            "288/288 [==============================] - 281s 976ms/step - loss: 0.1542 - accuracy: 0.9665 - val_loss: 0.3374 - val_accuracy: 0.9162\n",
            "Epoch 10/10\n",
            "288/288 [==============================] - 280s 974ms/step - loss: 0.1375 - accuracy: 0.9687 - val_loss: 0.3520 - val_accuracy: 0.9085\n"
          ],
          "name": "stdout"
        }
      ]
    },
    {
      "cell_type": "markdown",
      "metadata": {
        "id": "Vu1ebj2nFI_4"
      },
      "source": [
        "Unfortunately, since LSTMs are very computationally expensive, a warning from Keras lets us know that it will use Gated Recurrent Units (GRUs) instead when running on GPU. "
      ]
    },
    {
      "cell_type": "markdown",
      "metadata": {
        "id": "7THlDmfFdc9H"
      },
      "source": [
        "## Evaluation"
      ]
    },
    {
      "cell_type": "code",
      "metadata": {
        "id": "8dRtUNEtdzGk",
        "colab": {
          "base_uri": "https://localhost:8080/",
          "height": 910
        },
        "outputId": "ed3fed96-afa4-4bbf-b788-59418614e3a4"
      },
      "source": [
        "import matplotlib.pyplot as plt\n",
        "from sklearn.metrics import classification_report, confusion_matrix\n",
        "from sklearn.metrics import ConfusionMatrixDisplay\n",
        "\n",
        "fig, axis = plt.subplots(1, 2, figsize=(14,5))\n",
        "axis[0].plot(history_LSTM.history['val_loss'], label='val_loss')\n",
        "axis[0].plot(history_LSTM.history['loss'], label='loss')\n",
        "axis[0].legend()\n",
        "axis[1].plot(history_LSTM.history['val_accuracy'], label='val_acc')\n",
        "axis[1].plot(history_LSTM.history['accuracy'], label='acc')\n",
        "axis[1].legend()\n",
        "plt.show()\n",
        "\n",
        "\n",
        "y_pred =  model_LSTM.predict(seqs_test).round().astype(int)[:,0]\n",
        "\n",
        "acc_test = np.mean(sentiment_test == y_pred)\n",
        "\n",
        "print(\"\\nFINAL TEST ACCURACY: \" , acc_test )\n",
        "\n",
        "target_names = [str(i) for i in range(10)]\n",
        "\n",
        "print(\"\\nConfusion Matrix\\n\")\n",
        "fig, ax = plt.subplots(figsize=(5, 5))\n",
        "cm = confusion_matrix(sentiment_test, y_pred)\n",
        "disp = ConfusionMatrixDisplay(confusion_matrix=cm, display_labels=sentiments_tags)\n",
        "disp = disp.plot(ax=ax,cmap=plt.cm.Blues)\n",
        "plt.show()\n",
        "\n",
        "print(\"\\nClassification Report\\n\")\n",
        "\n",
        "print(classification_report(sentiment_test, y_pred, target_names=sentiments_tags))\n"
      ],
      "execution_count": null,
      "outputs": [
        {
          "output_type": "display_data",
          "data": {
            "image/png": "[encoded data removed]",
            "text/plain": [
              "<Figure size 1008x360 with 2 Axes>"
            ]
          },
          "metadata": {
            "tags": []
          }
        },
        {
          "output_type": "stream",
          "text": [
            "\n",
            "FINAL TEST ACCURACY:  0.9178723404255319\n",
            "\n",
            "Confusion Matrix\n",
            "\n"
          ],
          "name": "stdout"
        },
        {
          "output_type": "display_data",
          "data": {
            "image/png": "[encoded data removed]",
            "text/plain": [
              "<Figure size 360x360 with 2 Axes>"
            ]
          },
          "metadata": {
            "tags": []
          }
        },
        {
          "output_type": "stream",
          "text": [
            "\n",
            "Classification Report\n",
            "\n",
            "              precision    recall  f1-score   support\n",
            "\n",
            "    positive       0.92      0.67      0.78       500\n",
            "    negative       0.92      0.98      0.95      1850\n",
            "\n",
            "    accuracy                           0.92      2350\n",
            "   macro avg       0.92      0.83      0.86      2350\n",
            "weighted avg       0.92      0.92      0.91      2350\n",
            "\n"
          ],
          "name": "stdout"
        }
      ]
    },
    {
      "cell_type": "code",
      "metadata": {
        "id": "jyPYV1Qa_8eJ",
        "colab": {
          "base_uri": "https://localhost:8080/",
          "height": 232
        },
        "outputId": "313b5f7c-6fda-452c-efa1-a86322547695"
      },
      "source": [
        "test_tweet =\"I always like flying with you\"\n",
        "seq = Seq_tokenizer.texts_to_sequences([test_tweet])\n",
        "seq = pad_sequences(seq,maxlen=200)\n",
        "prediction = int(model_LSTM.predict(seq).round().item())\n",
        "print(\"TEST TWEET: \",test_tweet)\n",
        "print(\"PREDICTION: \",sentiments_tags[prediction])"
      ],
      "execution_count": null,
      "outputs": [
        {
          "output_type": "error",
          "ename": "NameError",
          "evalue": "ignored",
          "traceback": [
            "\u001b[0;31m---------------------------------------------------------------------------\u001b[0m",
            "\u001b[0;31mNameError\u001b[0m                                 Traceback (most recent call last)",
            "\u001b[0;32m<ipython-input-49-a8f180ef7dea>\u001b[0m in \u001b[0;36m<module>\u001b[0;34m()\u001b[0m\n\u001b[1;32m      2\u001b[0m \u001b[0mseq\u001b[0m \u001b[0;34m=\u001b[0m \u001b[0mSeq_tokenizer\u001b[0m\u001b[0;34m.\u001b[0m\u001b[0mtexts_to_sequences\u001b[0m\u001b[0;34m(\u001b[0m\u001b[0;34m[\u001b[0m\u001b[0mtest_tweet\u001b[0m\u001b[0;34m]\u001b[0m\u001b[0;34m)\u001b[0m\u001b[0;34m\u001b[0m\u001b[0;34m\u001b[0m\u001b[0m\n\u001b[1;32m      3\u001b[0m \u001b[0mseq\u001b[0m \u001b[0;34m=\u001b[0m \u001b[0mpad_sequences\u001b[0m\u001b[0;34m(\u001b[0m\u001b[0mseq\u001b[0m\u001b[0;34m,\u001b[0m\u001b[0mmaxlen\u001b[0m\u001b[0;34m=\u001b[0m\u001b[0;36m200\u001b[0m\u001b[0;34m)\u001b[0m\u001b[0;34m\u001b[0m\u001b[0;34m\u001b[0m\u001b[0m\n\u001b[0;32m----> 4\u001b[0;31m \u001b[0mprediction\u001b[0m \u001b[0;34m=\u001b[0m \u001b[0mint\u001b[0m\u001b[0;34m(\u001b[0m\u001b[0mmodel_LSTM\u001b[0m\u001b[0;34m.\u001b[0m\u001b[0mpredict\u001b[0m\u001b[0;34m(\u001b[0m\u001b[0mseq\u001b[0m\u001b[0;34m)\u001b[0m\u001b[0;34m.\u001b[0m\u001b[0mround\u001b[0m\u001b[0;34m(\u001b[0m\u001b[0;34m)\u001b[0m\u001b[0;34m.\u001b[0m\u001b[0mitem\u001b[0m\u001b[0;34m(\u001b[0m\u001b[0;34m)\u001b[0m\u001b[0;34m)\u001b[0m\u001b[0;34m\u001b[0m\u001b[0;34m\u001b[0m\u001b[0m\n\u001b[0m\u001b[1;32m      5\u001b[0m \u001b[0mprint\u001b[0m\u001b[0;34m(\u001b[0m\u001b[0;34m\"TEST TWEET: \"\u001b[0m\u001b[0;34m,\u001b[0m\u001b[0mtest_tweet\u001b[0m\u001b[0;34m)\u001b[0m\u001b[0;34m\u001b[0m\u001b[0;34m\u001b[0m\u001b[0m\n\u001b[1;32m      6\u001b[0m \u001b[0mprint\u001b[0m\u001b[0;34m(\u001b[0m\u001b[0;34m\"PREDICTION: \"\u001b[0m\u001b[0;34m,\u001b[0m\u001b[0msentiments_tags\u001b[0m\u001b[0;34m[\u001b[0m\u001b[0mprediction\u001b[0m\u001b[0;34m]\u001b[0m\u001b[0;34m)\u001b[0m\u001b[0;34m\u001b[0m\u001b[0;34m\u001b[0m\u001b[0m\n",
            "\u001b[0;31mNameError\u001b[0m: name 'model_LSTM' is not defined"
          ]
        }
      ]
    },
    {
      "cell_type": "markdown",
      "metadata": {
        "id": "Mbj2KYOwMr5-"
      },
      "source": [
        "## Simple FF vs simple RNN \n",
        "\n",
        "On the surface we might be tempted to look at only the modest increase in accuracy from ~89% to ~92. However, there are two very interesting differences:\n",
        "\n",
        "1. The model has now significantly less *false negatives*. This can be attributed to the long-short memory that the neurons have, which can allow them to keep what is worthwhile in time and forget what is unnecessary for prediction. \n",
        "\n",
        "2. If we perform the test again we can see how the same phrase: \"I always like flying with you\" now gets classified correctly. Since we excluded the data with neutral labels, neutral tests get classified as negative. "
      ]
    },
    {
      "cell_type": "code",
      "metadata": {
        "colab": {
          "base_uri": "https://localhost:8080/",
          "height": 232
        },
        "id": "YDta-8c8PmCD",
        "outputId": "48006f8d-1609-4a65-dc98-787a6421348c"
      },
      "source": [
        "test_tweet =\"I do not mind flying with you\" # NEUTRAL \n",
        "seq = Seq_tokenizer.texts_to_sequences([test_tweet])\n",
        "seq = pad_sequences(seq,maxlen=200)\n",
        "prediction = int(model_LSTM.predict(seq).round().item())\n",
        "print(\"TEST TWEET: \",test_tweet)\n",
        "print(\"PREDICTION: \",sentiments_tags[prediction])"
      ],
      "execution_count": null,
      "outputs": [
        {
          "output_type": "error",
          "ename": "NameError",
          "evalue": "ignored",
          "traceback": [
            "\u001b[0;31m---------------------------------------------------------------------------\u001b[0m",
            "\u001b[0;31mNameError\u001b[0m                                 Traceback (most recent call last)",
            "\u001b[0;32m<ipython-input-48-95afee864cb6>\u001b[0m in \u001b[0;36m<module>\u001b[0;34m()\u001b[0m\n\u001b[1;32m      2\u001b[0m \u001b[0mseq\u001b[0m \u001b[0;34m=\u001b[0m \u001b[0mSeq_tokenizer\u001b[0m\u001b[0;34m.\u001b[0m\u001b[0mtexts_to_sequences\u001b[0m\u001b[0;34m(\u001b[0m\u001b[0;34m[\u001b[0m\u001b[0mtest_tweet\u001b[0m\u001b[0;34m]\u001b[0m\u001b[0;34m)\u001b[0m\u001b[0;34m\u001b[0m\u001b[0;34m\u001b[0m\u001b[0m\n\u001b[1;32m      3\u001b[0m \u001b[0mseq\u001b[0m \u001b[0;34m=\u001b[0m \u001b[0mpad_sequences\u001b[0m\u001b[0;34m(\u001b[0m\u001b[0mseq\u001b[0m\u001b[0;34m,\u001b[0m\u001b[0mmaxlen\u001b[0m\u001b[0;34m=\u001b[0m\u001b[0;36m200\u001b[0m\u001b[0;34m)\u001b[0m\u001b[0;34m\u001b[0m\u001b[0;34m\u001b[0m\u001b[0m\n\u001b[0;32m----> 4\u001b[0;31m \u001b[0mprediction\u001b[0m \u001b[0;34m=\u001b[0m \u001b[0mint\u001b[0m\u001b[0;34m(\u001b[0m\u001b[0mmodel_LSTM\u001b[0m\u001b[0;34m.\u001b[0m\u001b[0mpredict\u001b[0m\u001b[0;34m(\u001b[0m\u001b[0mseq\u001b[0m\u001b[0;34m)\u001b[0m\u001b[0;34m.\u001b[0m\u001b[0mround\u001b[0m\u001b[0;34m(\u001b[0m\u001b[0;34m)\u001b[0m\u001b[0;34m.\u001b[0m\u001b[0mitem\u001b[0m\u001b[0;34m(\u001b[0m\u001b[0;34m)\u001b[0m\u001b[0;34m)\u001b[0m\u001b[0;34m\u001b[0m\u001b[0;34m\u001b[0m\u001b[0m\n\u001b[0m\u001b[1;32m      5\u001b[0m \u001b[0mprint\u001b[0m\u001b[0;34m(\u001b[0m\u001b[0;34m\"TEST TWEET: \"\u001b[0m\u001b[0;34m,\u001b[0m\u001b[0mtest_tweet\u001b[0m\u001b[0;34m)\u001b[0m\u001b[0;34m\u001b[0m\u001b[0;34m\u001b[0m\u001b[0m\n\u001b[1;32m      6\u001b[0m \u001b[0mprint\u001b[0m\u001b[0;34m(\u001b[0m\u001b[0;34m\"PREDICTION: \"\u001b[0m\u001b[0;34m,\u001b[0m\u001b[0msentiments_tags\u001b[0m\u001b[0;34m[\u001b[0m\u001b[0mprediction\u001b[0m\u001b[0;34m]\u001b[0m\u001b[0;34m)\u001b[0m\u001b[0;34m\u001b[0m\u001b[0;34m\u001b[0m\u001b[0m\n",
            "\u001b[0;31mNameError\u001b[0m: name 'model_LSTM' is not defined"
          ]
        }
      ]
    },
    {
      "cell_type": "code",
      "metadata": {
        "id": "RkBEtcV11PLF"
      },
      "source": [
        ""
      ],
      "execution_count": null,
      "outputs": []
    },
    {
      "cell_type": "markdown",
      "metadata": {
        "id": "bIzwjXAn9HpM"
      },
      "source": [
        "Additionally, we are achieving high accuracies with just a simple RNN. Let's see if adding another LSTM layer improves the performance. "
      ]
    },
    {
      "cell_type": "markdown",
      "metadata": {
        "id": "mq6sVPM1w3rn"
      },
      "source": [
        "## Double Recurrent Model"
      ]
    },
    {
      "cell_type": "code",
      "metadata": {
        "colab": {
          "base_uri": "https://localhost:8080/"
        },
        "id": "Dmbx3n3yw6Yu",
        "outputId": "000b9378-a9ac-46fe-9221-108eecabf931"
      },
      "source": [
        "model_LSTM = recurrent_double()\n",
        "history_LSTM = model_LSTM.fit(seqs_train, sentiment_train, epochs=10, batch_size=32, validation_data=(seqs_test, sentiment_test), class_weight = weights)"
      ],
      "execution_count": null,
      "outputs": [
        {
          "output_type": "stream",
          "text": [
            "WARNING:tensorflow:Layer lstm_3 will not use cuDNN kernel since it doesn't meet the cuDNN kernel criteria. It will use generic GPU kernel as fallback when running on GPU\n",
            "WARNING:tensorflow:Layer lstm_4 will not use cuDNN kernel since it doesn't meet the cuDNN kernel criteria. It will use generic GPU kernel as fallback when running on GPU\n",
            "Model: \"sequential_4\"\n",
            "_________________________________________________________________\n",
            "Layer (type)                 Output Shape              Param #   \n",
            "=================================================================\n",
            "embedding_2 (Embedding)      (None, 200, 32)           423488    \n",
            "_________________________________________________________________\n",
            "spatial_dropout1d_2 (Spatial (None, 200, 32)           0         \n",
            "_________________________________________________________________\n",
            "lstm_3 (LSTM)                (None, 200, 50)           16600     \n",
            "_________________________________________________________________\n",
            "lstm_4 (LSTM)                (None, 50)                20200     \n",
            "_________________________________________________________________\n",
            "dropout_2 (Dropout)          (None, 50)                0         \n",
            "_________________________________________________________________\n",
            "dense_5 (Dense)              (None, 1)                 51        \n",
            "=================================================================\n",
            "Total params: 460,339\n",
            "Trainable params: 460,339\n",
            "Non-trainable params: 0\n",
            "_________________________________________________________________\n",
            "None\n",
            "Epoch 1/10\n",
            "288/288 [==============================] - 540s 2s/step - loss: 1.7324 - accuracy: 0.7976 - val_loss: 0.5445 - val_accuracy: 0.7872\n",
            "Epoch 2/10\n",
            "288/288 [==============================] - 540s 2s/step - loss: 0.6168 - accuracy: 0.8202 - val_loss: 0.4321 - val_accuracy: 0.8379\n",
            "Epoch 3/10\n",
            "288/288 [==============================] - 537s 2s/step - loss: 0.4011 - accuracy: 0.8911 - val_loss: 0.3522 - val_accuracy: 0.8949\n",
            "Epoch 4/10\n",
            "288/288 [==============================] - 546s 2s/step - loss: 0.3463 - accuracy: 0.9139 - val_loss: 0.3093 - val_accuracy: 0.9077\n",
            "Epoch 5/10\n",
            "288/288 [==============================] - 560s 2s/step - loss: 0.2722 - accuracy: 0.9385 - val_loss: 0.2683 - val_accuracy: 0.9238\n",
            "Epoch 6/10\n",
            "288/288 [==============================] - 560s 2s/step - loss: 0.2206 - accuracy: 0.9509 - val_loss: 0.3682 - val_accuracy: 0.9026\n",
            "Epoch 7/10\n",
            "288/288 [==============================] - 552s 2s/step - loss: 0.2199 - accuracy: 0.9512 - val_loss: 0.4040 - val_accuracy: 0.8996\n",
            "Epoch 8/10\n",
            "288/288 [==============================] - 550s 2s/step - loss: 0.1872 - accuracy: 0.9566 - val_loss: 0.2929 - val_accuracy: 0.9247\n",
            "Epoch 9/10\n",
            "288/288 [==============================] - 554s 2s/step - loss: 0.2035 - accuracy: 0.9587 - val_loss: 0.3926 - val_accuracy: 0.9055\n",
            "Epoch 10/10\n",
            "288/288 [==============================] - 555s 2s/step - loss: 0.1681 - accuracy: 0.9623 - val_loss: 0.3144 - val_accuracy: 0.9221\n"
          ],
          "name": "stdout"
        }
      ]
    },
    {
      "cell_type": "markdown",
      "metadata": {
        "id": "-qgOZggSsV9v"
      },
      "source": [
        "## Visualization\n",
        "\n"
      ]
    },
    {
      "cell_type": "markdown",
      "metadata": {
        "id": "6o2XzITtw1jc"
      },
      "source": [
        "The code below creates files with the embedding corresponding to each word. These files are in the format required to visualize them in:  https://projector.tensorflow.org.\n"
      ]
    },
    {
      "cell_type": "code",
      "metadata": {
        "id": "ue692PmosZpt",
        "colab": {
          "base_uri": "https://localhost:8080/"
        },
        "outputId": "ba82d490-f295-49f1-848f-cc6c6c23b89a"
      },
      "source": [
        "import io\n",
        "\n",
        "word_index = Seq_tokenizer.word_index\n",
        "reverse_word_index = dict([(value, key) for (key, value) in word_index.items()])\n",
        "\n",
        "embedding_layer = model_LSTM.layers[0] \n",
        "weights = embedding_layer.get_weights()[0]\n",
        "print(weights.shape) # shape: (vocab_size, embedding_dim) \n",
        "\n",
        "out_v = io.open('vecs_learned.tsv', 'w', encoding='utf-8')\n",
        "out_m = io.open('meta_learned.tsv', 'w', encoding='utf-8')\n",
        "\n",
        "for word_num in range(1, 5000):\n",
        "  word = reverse_word_index[word_num]\n",
        "  embeddings = weights[word_num]\n",
        "  out_m.write(word + \"\\n\")\n",
        "  out_v.write('\\t'.join([str(x) for x in embeddings]) + \"\\n\")\n",
        "out_v.close()\n",
        "out_m.close()\n"
      ],
      "execution_count": null,
      "outputs": [
        {
          "output_type": "stream",
          "text": [
            "(13234, 32)\n"
          ],
          "name": "stdout"
        }
      ]
    },
    {
      "cell_type": "code",
      "metadata": {
        "id": "JWme8maLIBKS"
      },
      "source": [
        "print(\"Mounting your Google Drive ...\")\n",
        "\n",
        "from google.colab import drive\n",
        "drive.flush_and_unmount()\n",
        "drive.mount('/content/drive',force_remount=True)\n",
        " \n",
        "\n",
        "!cp vecs_learned.tsv \"/content/drive/BBS/\"\n",
        "!cp meta_learned.tsv \"/content/drive/BBS/\""
      ],
      "execution_count": null,
      "outputs": []
    },
    {
      "cell_type": "markdown",
      "metadata": {
        "id": "eanWY-J4cjIe"
      },
      "source": [
        "# Pre-trained Embeddings"
      ]
    },
    {
      "cell_type": "markdown",
      "metadata": {
        "id": "A3NbBHuFrM7G"
      },
      "source": [
        "## Download"
      ]
    },
    {
      "cell_type": "markdown",
      "metadata": {
        "id": "eDky-HnKcspm"
      },
      "source": [
        "The embeddings can be downloaded using the link below:"
      ]
    },
    {
      "cell_type": "code",
      "metadata": {
        "id": "wPdFdwQrYz2O",
        "colab": {
          "base_uri": "https://localhost:8080/"
        },
        "outputId": "47e4ebbd-6c4b-4525-b234-452a0392703a"
      },
      "source": [
        "!wget http://nlp.stanford.edu/data/glove.twitter.27B.zip"
      ],
      "execution_count": null,
      "outputs": [
        {
          "output_type": "stream",
          "text": [
            "--2021-04-01 11:44:52--  http://nlp.stanford.edu/data/glove.twitter.27B.zip\n",
            "Resolving nlp.stanford.edu (nlp.stanford.edu)... 171.64.67.140\n",
            "Connecting to nlp.stanford.edu (nlp.stanford.edu)|171.64.67.140|:80... connected.\n",
            "HTTP request sent, awaiting response... 302 Found\n",
            "Location: https://nlp.stanford.edu/data/glove.twitter.27B.zip [following]\n",
            "--2021-04-01 11:44:52--  https://nlp.stanford.edu/data/glove.twitter.27B.zip\n",
            "Connecting to nlp.stanford.edu (nlp.stanford.edu)|171.64.67.140|:443... connected.\n",
            "HTTP request sent, awaiting response... 301 Moved Permanently\n",
            "Location: http://downloads.cs.stanford.edu/nlp/data/glove.twitter.27B.zip [following]\n",
            "--2021-04-01 11:44:53--  http://downloads.cs.stanford.edu/nlp/data/glove.twitter.27B.zip\n",
            "Resolving downloads.cs.stanford.edu (downloads.cs.stanford.edu)... 171.64.64.22\n",
            "Connecting to downloads.cs.stanford.edu (downloads.cs.stanford.edu)|171.64.64.22|:80... connected.\n",
            "HTTP request sent, awaiting response... 200 OK\n",
            "Length: 1520408563 (1.4G) [application/zip]\n",
            "Saving to: ‘glove.twitter.27B.zip’\n",
            "\n",
            "glove.twitter.27B.z 100%[===================>]   1.42G  3.10MB/s    in 7m 8s   \n",
            "\n",
            "2021-04-01 11:52:01 (3.39 MB/s) - ‘glove.twitter.27B.zip’ saved [1520408563/1520408563]\n",
            "\n"
          ],
          "name": "stdout"
        }
      ]
    },
    {
      "cell_type": "code",
      "metadata": {
        "id": "HYhOXARPZBGA"
      },
      "source": [
        "import zipfile\n",
        "zip_ref = zipfile.ZipFile('glove.twitter.27B.zip', 'r')\n",
        "zip_ref.extractall('glove-global-vectors-for-word-representation/')\n",
        "zip_ref.close()"
      ],
      "execution_count": null,
      "outputs": []
    },
    {
      "cell_type": "code",
      "metadata": {
        "id": "Ca9qqPTPcbo0",
        "colab": {
          "base_uri": "https://localhost:8080/"
        },
        "outputId": "f2ea4f17-7dc8-4d7c-b080-0e5dc6b089fc"
      },
      "source": [
        "!ls glove-global-vectors-for-word-representation/"
      ],
      "execution_count": null,
      "outputs": [
        {
          "output_type": "stream",
          "text": [
            "glove.twitter.27B.100d.txt  glove.twitter.27B.25d.txt\n",
            "glove.twitter.27B.200d.txt  glove.twitter.27B.50d.txt\n"
          ],
          "name": "stdout"
        }
      ]
    },
    {
      "cell_type": "code",
      "metadata": {
        "id": "gnnKS0GAcSd8"
      },
      "source": [
        "emd_dim = 200\n",
        "\n",
        "emb_dict = {}\n",
        "\n",
        "glove_file = 'glove.twitter.27B.' + str(emd_dim) + 'd.txt'\n",
        "glove_dir = 'glove-global-vectors-for-word-representation/'\n",
        "\n",
        "glove = open(glove_dir+glove_file)\n",
        "for line in glove:\n",
        "    values = line.split()\n",
        "    word = values[0]\n",
        "    vector = np.asarray(values[1:], dtype='float32')\n",
        "    emb_dict[word] = vector\n",
        "glove.close()"
      ],
      "execution_count": null,
      "outputs": []
    },
    {
      "cell_type": "markdown",
      "metadata": {
        "id": "nwRyO76DrhH3"
      },
      "source": [
        "## Using the Embeddings to Set the Net's Weights "
      ]
    },
    {
      "cell_type": "code",
      "metadata": {
        "id": "ohJxd_1uZVvK"
      },
      "source": [
        "n_max_words = 5000\n",
        "\n",
        "emb_matrix = np.zeros((n_max_words, emd_dim))\n",
        "\n",
        "for w, i in Seq_tokenizer.word_index.items():\n",
        "    if i < n_max_words:\n",
        "        vect = emb_dict.get(w)\n",
        "        if vect is not None:\n",
        "            emb_matrix[i] = vect\n",
        "    else:\n",
        "        break\n"
      ],
      "execution_count": null,
      "outputs": []
    },
    {
      "cell_type": "markdown",
      "metadata": {
        "id": "g7Xm1SgXJrtn"
      },
      "source": [
        "## Model Definition"
      ]
    },
    {
      "cell_type": "code",
      "metadata": {
        "id": "4fnFBFwCGkDy"
      },
      "source": [
        "from tensorflow.keras.models import Sequential\n",
        "from tensorflow.keras.layers import LSTM, Dense, Dropout\n",
        "from tensorflow.keras.layers import SpatialDropout1D\n",
        "from tensorflow.keras.layers import Embedding, Flatten\n",
        "from tensorflow.keras.layers import GRU\n",
        "\n",
        "def simple_glove():\n",
        "\n",
        "  glove_model = Sequential()\n",
        "  glove_model.add(Embedding(n_max_words, emd_dim, input_length=200))\n",
        "  glove_model.add(Flatten())\n",
        "  glove_model.add(Dense(1, activation='sigmoid'))\n",
        "  glove_model.summary()\n",
        "\n",
        "  glove_model.layers[0].set_weights([emb_matrix])\n",
        "  glove_model.layers[0].trainable = False\n",
        "\n",
        "  glove_model.compile(optimizer='adam', loss='binary_crossentropy', metrics=['accuracy'])\n",
        "\n",
        "  return glove_model\n",
        "\n",
        "def recurrent_glove():\n",
        "\n",
        "  glove_model = Sequential()\n",
        "  glove_model.add(Embedding(n_max_words, emd_dim, input_length=200))\n",
        "  glove_model.add(SpatialDropout1D(0.25))\n",
        "  glove_model.add(GRU(50, dropout=0.5, recurrent_dropout=0.5))\n",
        "  glove_model.add(Dropout(0.2))\n",
        "  glove_model.add(Dense(1, activation='sigmoid'))\n",
        "  glove_model.compile(loss='binary_crossentropy',optimizer='adam', metrics=['accuracy'])\n",
        "  print(glove_model.summary())\n",
        "\n",
        "  glove_model.layers[0].set_weights([emb_matrix])\n",
        "  glove_model.layers[0].trainable = False\n",
        "\n",
        "  glove_model.compile(optimizer='adam', loss='binary_crossentropy', metrics=['accuracy'])\n",
        "\n",
        "  return glove_model\n"
      ],
      "execution_count": null,
      "outputs": []
    },
    {
      "cell_type": "markdown",
      "metadata": {
        "id": "WCemikXirkox"
      },
      "source": [
        "## Training"
      ]
    },
    {
      "cell_type": "markdown",
      "metadata": {
        "id": "jYDrrUHOj2FZ"
      },
      "source": [
        "### Classic Model"
      ]
    },
    {
      "cell_type": "code",
      "metadata": {
        "id": "jfL2AZdFOHAL",
        "colab": {
          "base_uri": "https://localhost:8080/"
        },
        "outputId": "efeb69d0-9ddb-4d3e-d865-f6e4ffecd591"
      },
      "source": [
        "glove_model = simple_glove()\n",
        "glove_history = glove_model.fit(seqs_train, sentiment_train, epochs=10, batch_size=64, validation_data=(seqs_test, sentiment_test))\n"
      ],
      "execution_count": null,
      "outputs": [
        {
          "output_type": "stream",
          "text": [
            "Model: \"sequential_4\"\n",
            "_________________________________________________________________\n",
            "Layer (type)                 Output Shape              Param #   \n",
            "=================================================================\n",
            "embedding_1 (Embedding)      (None, 200, 200)          1000000   \n",
            "_________________________________________________________________\n",
            "flatten (Flatten)            (None, 40000)             0         \n",
            "_________________________________________________________________\n",
            "dense_10 (Dense)             (None, 1)                 40001     \n",
            "=================================================================\n",
            "Total params: 1,040,001\n",
            "Trainable params: 1,040,001\n",
            "Non-trainable params: 0\n",
            "_________________________________________________________________\n",
            "Epoch 1/10\n",
            "144/144 [==============================] - 1s 6ms/step - loss: 0.4239 - accuracy: 0.8092 - val_loss: 0.2929 - val_accuracy: 0.8889\n",
            "Epoch 2/10\n",
            "144/144 [==============================] - 1s 5ms/step - loss: 0.2597 - accuracy: 0.9014 - val_loss: 0.2570 - val_accuracy: 0.9034\n",
            "Epoch 3/10\n",
            "144/144 [==============================] - 1s 5ms/step - loss: 0.2125 - accuracy: 0.9220 - val_loss: 0.2429 - val_accuracy: 0.9055\n",
            "Epoch 4/10\n",
            "144/144 [==============================] - 1s 5ms/step - loss: 0.1885 - accuracy: 0.9320 - val_loss: 0.2368 - val_accuracy: 0.9106\n",
            "Epoch 5/10\n",
            "144/144 [==============================] - 1s 5ms/step - loss: 0.1708 - accuracy: 0.9418 - val_loss: 0.2333 - val_accuracy: 0.9106\n",
            "Epoch 6/10\n",
            "144/144 [==============================] - 1s 5ms/step - loss: 0.1615 - accuracy: 0.9458 - val_loss: 0.2317 - val_accuracy: 0.9119\n",
            "Epoch 7/10\n",
            "144/144 [==============================] - 1s 5ms/step - loss: 0.1505 - accuracy: 0.9519 - val_loss: 0.2323 - val_accuracy: 0.9119\n",
            "Epoch 8/10\n",
            "144/144 [==============================] - 1s 5ms/step - loss: 0.1369 - accuracy: 0.9553 - val_loss: 0.2311 - val_accuracy: 0.9106\n",
            "Epoch 9/10\n",
            "144/144 [==============================] - 1s 5ms/step - loss: 0.1345 - accuracy: 0.9540 - val_loss: 0.2301 - val_accuracy: 0.9119\n",
            "Epoch 10/10\n",
            "144/144 [==============================] - 1s 5ms/step - loss: 0.1264 - accuracy: 0.9631 - val_loss: 0.2344 - val_accuracy: 0.9140\n"
          ],
          "name": "stdout"
        }
      ]
    },
    {
      "cell_type": "markdown",
      "metadata": {
        "id": "aqo8w8l0j94Z"
      },
      "source": [
        "### Recurrent Model"
      ]
    },
    {
      "cell_type": "code",
      "metadata": {
        "id": "k-aBVPJJrrpY",
        "colab": {
          "base_uri": "https://localhost:8080/",
          "height": 300
        },
        "outputId": "9b6472fd-622a-4c7b-e59b-1ba85e77ea1e"
      },
      "source": [
        "recurrent_glove_model = recurrent_glove()\n",
        "recurrent_glove_history = recurrent_glove_model.fit(seqs_train, sentiment_train, epochs=10, batch_size=64, validation_data=(seqs_test, sentiment_test))\n"
      ],
      "execution_count": null,
      "outputs": [
        {
          "output_type": "error",
          "ename": "NameError",
          "evalue": "ignored",
          "traceback": [
            "\u001b[0;31m---------------------------------------------------------------------------\u001b[0m",
            "\u001b[0;31mNameError\u001b[0m                                 Traceback (most recent call last)",
            "\u001b[0;32m<ipython-input-2-14822459ac10>\u001b[0m in \u001b[0;36m<module>\u001b[0;34m()\u001b[0m\n\u001b[0;32m----> 1\u001b[0;31m \u001b[0mrecurrent_glove_model\u001b[0m \u001b[0;34m=\u001b[0m \u001b[0mrecurrent_glove\u001b[0m\u001b[0;34m(\u001b[0m\u001b[0;34m)\u001b[0m\u001b[0;34m\u001b[0m\u001b[0;34m\u001b[0m\u001b[0m\n\u001b[0m\u001b[1;32m      2\u001b[0m \u001b[0mrecurrent_glove_history\u001b[0m \u001b[0;34m=\u001b[0m \u001b[0mrecurrent_glove_model\u001b[0m\u001b[0;34m.\u001b[0m\u001b[0mfit\u001b[0m\u001b[0;34m(\u001b[0m\u001b[0mseqs_train\u001b[0m\u001b[0;34m,\u001b[0m \u001b[0msentiment_train\u001b[0m\u001b[0;34m,\u001b[0m \u001b[0mepochs\u001b[0m\u001b[0;34m=\u001b[0m\u001b[0;36m10\u001b[0m\u001b[0;34m,\u001b[0m \u001b[0mbatch_size\u001b[0m\u001b[0;34m=\u001b[0m\u001b[0;36m64\u001b[0m\u001b[0;34m,\u001b[0m \u001b[0mvalidation_data\u001b[0m\u001b[0;34m=\u001b[0m\u001b[0;34m(\u001b[0m\u001b[0mseqs_test\u001b[0m\u001b[0;34m,\u001b[0m \u001b[0msentiment_test\u001b[0m\u001b[0;34m)\u001b[0m\u001b[0;34m)\u001b[0m\u001b[0;34m\u001b[0m\u001b[0;34m\u001b[0m\u001b[0m\n",
            "\u001b[0;32m<ipython-input-1-5f7d51e826df>\u001b[0m in \u001b[0;36mrecurrent_glove\u001b[0;34m()\u001b[0m\n\u001b[1;32m     23\u001b[0m \u001b[0;34m\u001b[0m\u001b[0m\n\u001b[1;32m     24\u001b[0m   \u001b[0mglove_model\u001b[0m \u001b[0;34m=\u001b[0m \u001b[0mSequential\u001b[0m\u001b[0;34m(\u001b[0m\u001b[0;34m)\u001b[0m\u001b[0;34m\u001b[0m\u001b[0;34m\u001b[0m\u001b[0m\n\u001b[0;32m---> 25\u001b[0;31m   \u001b[0mglove_model\u001b[0m\u001b[0;34m.\u001b[0m\u001b[0madd\u001b[0m\u001b[0;34m(\u001b[0m\u001b[0mEmbedding\u001b[0m\u001b[0;34m(\u001b[0m\u001b[0mn_max_words\u001b[0m\u001b[0;34m,\u001b[0m \u001b[0memd_dim\u001b[0m\u001b[0;34m,\u001b[0m \u001b[0minput_length\u001b[0m\u001b[0;34m=\u001b[0m\u001b[0;36m200\u001b[0m\u001b[0;34m)\u001b[0m\u001b[0;34m)\u001b[0m\u001b[0;34m\u001b[0m\u001b[0;34m\u001b[0m\u001b[0m\n\u001b[0m\u001b[1;32m     26\u001b[0m   \u001b[0mglove_model\u001b[0m\u001b[0;34m.\u001b[0m\u001b[0madd\u001b[0m\u001b[0;34m(\u001b[0m\u001b[0mSpatialDropout1D\u001b[0m\u001b[0;34m(\u001b[0m\u001b[0;36m0.25\u001b[0m\u001b[0;34m)\u001b[0m\u001b[0;34m)\u001b[0m\u001b[0;34m\u001b[0m\u001b[0;34m\u001b[0m\u001b[0m\n\u001b[1;32m     27\u001b[0m   \u001b[0mglove_model\u001b[0m\u001b[0;34m.\u001b[0m\u001b[0madd\u001b[0m\u001b[0;34m(\u001b[0m\u001b[0mGRU\u001b[0m\u001b[0;34m(\u001b[0m\u001b[0;36m50\u001b[0m\u001b[0;34m,\u001b[0m \u001b[0mdropout\u001b[0m\u001b[0;34m=\u001b[0m\u001b[0;36m0.5\u001b[0m\u001b[0;34m,\u001b[0m \u001b[0mrecurrent_dropout\u001b[0m\u001b[0;34m=\u001b[0m\u001b[0;36m0.5\u001b[0m\u001b[0;34m)\u001b[0m\u001b[0;34m)\u001b[0m\u001b[0;34m\u001b[0m\u001b[0;34m\u001b[0m\u001b[0m\n",
            "\u001b[0;31mNameError\u001b[0m: name 'n_max_words' is not defined"
          ]
        }
      ]
    },
    {
      "cell_type": "markdown",
      "metadata": {
        "id": "uynIB7eHKKiP"
      },
      "source": [
        "## Evaluation"
      ]
    },
    {
      "cell_type": "markdown",
      "metadata": {
        "id": "W8sMFk8KkVpk"
      },
      "source": [
        "### Classic Model"
      ]
    },
    {
      "cell_type": "code",
      "metadata": {
        "id": "hYM7UxenKNIh",
        "colab": {
          "base_uri": "https://localhost:8080/",
          "height": 909
        },
        "outputId": "832031ce-29c3-43a2-e630-5eafdaec40b2"
      },
      "source": [
        "import matplotlib.pyplot as plt\n",
        "from sklearn.metrics import classification_report, confusion_matrix\n",
        "from sklearn.metrics import ConfusionMatrixDisplay\n",
        "\n",
        "fig, axis = plt.subplots(1, 2, figsize=(14,5))\n",
        "axis[0].plot(glove_history.history['val_loss'], label='val_loss')\n",
        "axis[0].plot(glove_history.history['loss'], label='loss')\n",
        "axis[0].legend()\n",
        "axis[1].plot(glove_history.history['val_accuracy'], label='val_acc')\n",
        "axis[1].plot(glove_history.history['accuracy'], label='acc')\n",
        "axis[1].legend()\n",
        "plt.show()\n",
        "\n",
        "\n",
        "y_pred =  glove_model.predict(seqs_test).round().astype(int)[:,0]\n",
        "\n",
        "acc_test = np.mean(sentiment_test == y_pred)\n",
        "\n",
        "print(\"\\nFINAL TEST ACCURACY: \" , acc_test )\n",
        "\n",
        "target_names = [str(i) for i in range(10)]\n",
        "\n",
        "print(\"\\nConfusion Matrix\\n\")\n",
        "fig, ax = plt.subplots(figsize=(5, 5))\n",
        "cm = confusion_matrix(sentiment_test, y_pred)\n",
        "disp = ConfusionMatrixDisplay(confusion_matrix=cm, display_labels=sentiments_tags)\n",
        "disp = disp.plot(ax=ax,cmap=plt.cm.Blues)\n",
        "plt.show()\n",
        "\n",
        "print(\"\\nClassification Report\\n\")\n",
        "\n",
        "print(classification_report(sentiment_test, y_pred, target_names=sentiments_tags))\n"
      ],
      "execution_count": null,
      "outputs": [
        {
          "output_type": "display_data",
          "data": {
            "image/png": "[encoded data removed]",
            "text/plain": [
              "<Figure size 1008x360 with 2 Axes>"
            ]
          },
          "metadata": {
            "tags": []
          }
        },
        {
          "output_type": "stream",
          "text": [
            "\n",
            "FINAL TEST ACCURACY:  0.9140425531914894\n",
            "\n",
            "Confusion Matrix\n",
            "\n"
          ],
          "name": "stdout"
        },
        {
          "output_type": "display_data",
          "data": {
            "image/png": "[encoded data removed]",
            "text/plain": [
              "<Figure size 360x360 with 2 Axes>"
            ]
          },
          "metadata": {
            "tags": []
          }
        },
        {
          "output_type": "stream",
          "text": [
            "\n",
            "Classification Report\n",
            "\n",
            "              precision    recall  f1-score   support\n",
            "\n",
            "    positive       0.86      0.72      0.78       500\n",
            "    negative       0.93      0.97      0.95      1850\n",
            "\n",
            "    accuracy                           0.91      2350\n",
            "   macro avg       0.89      0.84      0.86      2350\n",
            "weighted avg       0.91      0.91      0.91      2350\n",
            "\n"
          ],
          "name": "stdout"
        }
      ]
    },
    {
      "cell_type": "code",
      "metadata": {
        "colab": {
          "base_uri": "https://localhost:8080/"
        },
        "id": "o6jEmzPEkjfk",
        "outputId": "67ecd507-c982-4c46-b0d0-bc60489861a2"
      },
      "source": [
        "test_tweet =\"This is so so sad\"\n",
        "seq = Seq_tokenizer.texts_to_sequences([test_tweet])\n",
        "seq = pad_sequences(seq,maxlen=200)\n",
        "prediction = int(glove_model.predict(seq).round().item())\n",
        "print(\"TEST TWEET: \",test_tweet)\n",
        "print(\"PREDICTION: \",sentiments_tags[prediction])\n"
      ],
      "execution_count": null,
      "outputs": [
        {
          "output_type": "stream",
          "text": [
            "TEST TWEET:  This is so so sad\n",
            "PREDICTION:  negative\n"
          ],
          "name": "stdout"
        }
      ]
    },
    {
      "cell_type": "markdown",
      "metadata": {
        "id": "1NwqwcqZkZIA"
      },
      "source": [
        "### Recurrent Model"
      ]
    },
    {
      "cell_type": "code",
      "metadata": {
        "colab": {
          "base_uri": "https://localhost:8080/",
          "height": 909
        },
        "id": "hJcUmHvWkEqf",
        "outputId": "6084f729-58ee-440b-a067-9d009ca34827"
      },
      "source": [
        "import matplotlib.pyplot as plt\n",
        "from sklearn.metrics import classification_report, confusion_matrix\n",
        "from sklearn.metrics import ConfusionMatrixDisplay\n",
        "\n",
        "fig, axis = plt.subplots(1, 2, figsize=(14,5))\n",
        "axis[0].plot(recurrent_glove_history.history['val_loss'], label='val_loss')\n",
        "axis[0].plot(recurrent_glove_history.history['loss'], label='loss')\n",
        "axis[0].legend()\n",
        "axis[1].plot(recurrent_glove_history.history['val_accuracy'], label='val_acc')\n",
        "axis[1].plot(recurrent_glove_history.history['accuracy'], label='acc')\n",
        "axis[1].legend()\n",
        "plt.show()\n",
        "\n",
        "\n",
        "y_pred =  recurrent_glove_model.predict(seqs_test).round().astype(int)[:,0]\n",
        "\n",
        "acc_test = np.mean(sentiment_test == y_pred)\n",
        "\n",
        "print(\"\\nFINAL TEST ACCURACY: \" , acc_test )\n",
        "\n",
        "target_names = [str(i) for i in range(10)]\n",
        "\n",
        "print(\"\\nConfusion Matrix\\n\")\n",
        "fig, ax = plt.subplots(figsize=(5, 5))\n",
        "cm = confusion_matrix(sentiment_test, y_pred)\n",
        "disp = ConfusionMatrixDisplay(confusion_matrix=cm, display_labels=sentiments_tags)\n",
        "disp = disp.plot(ax=ax,cmap=plt.cm.Blues)\n",
        "plt.show()\n",
        "\n",
        "print(\"\\nClassification Report\\n\")\n",
        "\n",
        "print(classification_report(sentiment_test, y_pred, target_names=sentiments_tags))\n"
      ],
      "execution_count": null,
      "outputs": [
        {
          "output_type": "display_data",
          "data": {
            "image/png": "[encoded data removed]",
            "text/plain": [
              "<Figure size 1008x360 with 2 Axes>"
            ]
          },
          "metadata": {
            "tags": []
          }
        },
        {
          "output_type": "stream",
          "text": [
            "\n",
            "FINAL TEST ACCURACY:  0.9234042553191489\n",
            "\n",
            "Confusion Matrix\n",
            "\n"
          ],
          "name": "stdout"
        },
        {
          "output_type": "display_data",
          "data": {
            "image/png": "[encoded data removed]",
            "text/plain": [
              "<Figure size 360x360 with 2 Axes>"
            ]
          },
          "metadata": {
            "tags": []
          }
        },
        {
          "output_type": "stream",
          "text": [
            "\n",
            "Classification Report\n",
            "\n",
            "              precision    recall  f1-score   support\n",
            "\n",
            "    positive       0.85      0.77      0.81       500\n",
            "    negative       0.94      0.96      0.95      1850\n",
            "\n",
            "    accuracy                           0.92      2350\n",
            "   macro avg       0.90      0.87      0.88      2350\n",
            "weighted avg       0.92      0.92      0.92      2350\n",
            "\n"
          ],
          "name": "stdout"
        }
      ]
    },
    {
      "cell_type": "code",
      "metadata": {
        "id": "xg6nhSywKXCd",
        "colab": {
          "base_uri": "https://localhost:8080/"
        },
        "outputId": "2f609da4-ccce-4e58-e232-146b64d97cfc"
      },
      "source": [
        "test_tweet =\"I thought it might be bad but it ended up being good\"\n",
        "seq = Seq_tokenizer.texts_to_sequences([test_tweet])\n",
        "seq = pad_sequences(seq,maxlen=200)\n",
        "prediction = int(recurrent_glove_model.predict(seq).round().item())\n",
        "print(\"TEST TWEET: \",test_tweet)\n",
        "print(\"PREDICTION: \",sentiments_tags[prediction])\n"
      ],
      "execution_count": null,
      "outputs": [
        {
          "output_type": "stream",
          "text": [
            "TEST TWEET:  I thought it might be bad but it ended up being good\n",
            "PREDICTION:  negative\n"
          ],
          "name": "stdout"
        }
      ]
    },
    {
      "cell_type": "markdown",
      "metadata": {
        "id": "4i7gWRz7tNuV"
      },
      "source": [
        "Complex phrases where the presence of positive and negative words but with overall positive sentiment can still be misclassified as negative. One good way to approach this would be the use of bidirectional layers in order to aid the model in learning also in a backwards manner. "
      ]
    },
    {
      "cell_type": "markdown",
      "metadata": {
        "id": "hBT0Nu_F2pII"
      },
      "source": [
        "# Bidirectional model without pre-trained embeddings"
      ]
    },
    {
      "cell_type": "markdown",
      "metadata": {
        "id": "MZfMhPst2wpD"
      },
      "source": [
        "## Model definition"
      ]
    },
    {
      "cell_type": "code",
      "metadata": {
        "id": "AGdFufPP2qo-"
      },
      "source": [
        "def recurrent_bidirectional():\n",
        "  embedding_vector_length = 32\n",
        "  model = Sequential()\n",
        "  model.add(Embedding(vocab_size, embedding_vector_length, input_length=200))\n",
        "  model.add(SpatialDropout1D(0.25))\n",
        "  model.add(Bidirectional(LSTM(50, dropout=0.5, recurrent_dropout=0.5)))\n",
        "  model.add(Dropout(0.2))\n",
        "  model.add(Dense(1, activation='sigmoid'))\n",
        "  model.compile(loss='binary_crossentropy',optimizer='adam', metrics=['accuracy'])\n",
        "  print(model.summary())\n",
        "  return model\n"
      ],
      "execution_count": null,
      "outputs": []
    },
    {
      "cell_type": "markdown",
      "metadata": {
        "id": "S2oZdGvk2zLV"
      },
      "source": [
        "## Training"
      ]
    },
    {
      "cell_type": "code",
      "metadata": {
        "colab": {
          "base_uri": "https://localhost:8080/"
        },
        "id": "vsX3HR-820pn",
        "outputId": "77605d45-ecc5-403a-f0f4-6964ee2ef6d8"
      },
      "source": [
        "model_bd = recurrent_bidirectional()\n",
        "history_bd = model_bd.fit(seqs_train, sentiment_train, epochs=10, batch_size=64, validation_data=(seqs_test, sentiment_test))"
      ],
      "execution_count": null,
      "outputs": [
        {
          "output_type": "stream",
          "text": [
            "WARNING:tensorflow:Layer lstm_4 will not use cuDNN kernel since it doesn't meet the cuDNN kernel criteria. It will use generic GPU kernel as fallback when running on GPU\n",
            "WARNING:tensorflow:Layer lstm_4 will not use cuDNN kernel since it doesn't meet the cuDNN kernel criteria. It will use generic GPU kernel as fallback when running on GPU\n",
            "WARNING:tensorflow:Layer lstm_4 will not use cuDNN kernel since it doesn't meet the cuDNN kernel criteria. It will use generic GPU kernel as fallback when running on GPU\n",
            "Model: \"sequential_11\"\n",
            "_________________________________________________________________\n",
            "Layer (type)                 Output Shape              Param #   \n",
            "=================================================================\n",
            "embedding_11 (Embedding)     (None, 200, 32)           423488    \n",
            "_________________________________________________________________\n",
            "spatial_dropout1d_11 (Spatia (None, 200, 32)           0         \n",
            "_________________________________________________________________\n",
            "bidirectional_10 (Bidirectio (None, 100)               33200     \n",
            "_________________________________________________________________\n",
            "dropout_10 (Dropout)         (None, 100)               0         \n",
            "_________________________________________________________________\n",
            "dense_10 (Dense)             (None, 1)                 101       \n",
            "=================================================================\n",
            "Total params: 456,789\n",
            "Trainable params: 456,789\n",
            "Non-trainable params: 0\n",
            "_________________________________________________________________\n",
            "None\n",
            "Epoch 1/10\n",
            "144/144 [==============================] - 285s 2s/step - loss: 0.5199 - accuracy: 0.7881 - val_loss: 0.3080 - val_accuracy: 0.8732\n",
            "Epoch 2/10\n",
            "144/144 [==============================] - 276s 2s/step - loss: 0.2823 - accuracy: 0.8921 - val_loss: 0.2215 - val_accuracy: 0.9183\n",
            "Epoch 3/10\n",
            "144/144 [==============================] - 275s 2s/step - loss: 0.1842 - accuracy: 0.9342 - val_loss: 0.1879 - val_accuracy: 0.9272\n",
            "Epoch 4/10\n",
            "144/144 [==============================] - 277s 2s/step - loss: 0.1462 - accuracy: 0.9460 - val_loss: 0.1871 - val_accuracy: 0.9268\n",
            "Epoch 5/10\n",
            "144/144 [==============================] - 276s 2s/step - loss: 0.1216 - accuracy: 0.9582 - val_loss: 0.1888 - val_accuracy: 0.9349\n",
            "Epoch 6/10\n",
            "144/144 [==============================] - 276s 2s/step - loss: 0.1021 - accuracy: 0.9628 - val_loss: 0.1925 - val_accuracy: 0.9298\n",
            "Epoch 7/10\n",
            "144/144 [==============================] - 277s 2s/step - loss: 0.0940 - accuracy: 0.9650 - val_loss: 0.2030 - val_accuracy: 0.9328\n",
            "Epoch 8/10\n",
            "144/144 [==============================] - 274s 2s/step - loss: 0.0819 - accuracy: 0.9700 - val_loss: 0.2237 - val_accuracy: 0.9302\n",
            "Epoch 9/10\n",
            "144/144 [==============================] - 275s 2s/step - loss: 0.0723 - accuracy: 0.9752 - val_loss: 0.2186 - val_accuracy: 0.9319\n",
            "Epoch 10/10\n",
            "144/144 [==============================] - 275s 2s/step - loss: 0.0654 - accuracy: 0.9756 - val_loss: 0.2475 - val_accuracy: 0.9260\n"
          ],
          "name": "stdout"
        }
      ]
    },
    {
      "cell_type": "markdown",
      "metadata": {
        "id": "MCiQCQFw3CgA"
      },
      "source": [
        "## Evaluation"
      ]
    },
    {
      "cell_type": "code",
      "metadata": {
        "colab": {
          "base_uri": "https://localhost:8080/",
          "height": 909
        },
        "id": "IRdvE23Y3D6B",
        "outputId": "1211881f-e4cb-4860-9d1d-fc436e398883"
      },
      "source": [
        "import matplotlib.pyplot as plt\n",
        "from sklearn.metrics import classification_report, confusion_matrix\n",
        "from sklearn.metrics import ConfusionMatrixDisplay\n",
        "\n",
        "fig, axis = plt.subplots(1, 2, figsize=(14,5))\n",
        "axis[0].plot(history_bd.history['val_loss'], label='val_loss')\n",
        "axis[0].plot(history_bd.history['loss'], label='loss')\n",
        "axis[0].legend()\n",
        "axis[1].plot(history_bd.history['val_accuracy'], label='val_acc')\n",
        "axis[1].plot(history_bd.history['accuracy'], label='acc')\n",
        "axis[1].legend()\n",
        "plt.show()\n",
        "\n",
        "\n",
        "y_pred =  model_bd.predict(seqs_test).round().astype(int)[:,0]\n",
        "\n",
        "acc_test = np.mean(sentiment_test == y_pred)\n",
        "\n",
        "print(\"\\nFINAL TEST ACCURACY: \" , acc_test )\n",
        "\n",
        "target_names = [str(i) for i in range(10)]\n",
        "\n",
        "print(\"\\nConfusion Matrix\\n\")\n",
        "fig, ax = plt.subplots(figsize=(5, 5))\n",
        "cm = confusion_matrix(sentiment_test, y_pred)\n",
        "disp = ConfusionMatrixDisplay(confusion_matrix=cm, display_labels=sentiments_tags)\n",
        "disp = disp.plot(ax=ax,cmap=plt.cm.Blues)\n",
        "plt.show()\n",
        "\n",
        "print(\"\\nClassification Report\\n\")\n",
        "\n",
        "print(classification_report(sentiment_test, y_pred, target_names=sentiments_tags))\n"
      ],
      "execution_count": null,
      "outputs": [
        {
          "output_type": "display_data",
          "data": {
            "image/png": "[encoded data removed]",
            "text/plain": [
              "<Figure size 1008x360 with 2 Axes>"
            ]
          },
          "metadata": {
            "tags": []
          }
        },
        {
          "output_type": "stream",
          "text": [
            "\n",
            "FINAL TEST ACCURACY:  0.9259574468085107\n",
            "\n",
            "Confusion Matrix\n",
            "\n"
          ],
          "name": "stdout"
        },
        {
          "output_type": "display_data",
          "data": {
            "image/png": "[encoded data removed]",
            "text/plain": [
              "<Figure size 360x360 with 2 Axes>"
            ]
          },
          "metadata": {
            "tags": []
          }
        },
        {
          "output_type": "stream",
          "text": [
            "\n",
            "Classification Report\n",
            "\n",
            "              precision    recall  f1-score   support\n",
            "\n",
            "    positive       0.87      0.77      0.82       500\n",
            "    negative       0.94      0.97      0.95      1850\n",
            "\n",
            "    accuracy                           0.93      2350\n",
            "   macro avg       0.90      0.87      0.88      2350\n",
            "weighted avg       0.92      0.93      0.92      2350\n",
            "\n"
          ],
          "name": "stdout"
        }
      ]
    },
    {
      "cell_type": "markdown",
      "metadata": {
        "id": "1xzH910USiTo"
      },
      "source": [
        "The bidirectional model achieved approximately the same results as the recurrent model with the pre-trained embeddings, however, this one shows presence of overfitting. Therefore, the model with the best generalization ability is the one with pre-trained embeddings.  "
      ]
    },
    {
      "cell_type": "code",
      "metadata": {
        "id": "GY-b8gTKSOV5"
      },
      "source": [
        ""
      ],
      "execution_count": null,
      "outputs": []
    }
  ]
}